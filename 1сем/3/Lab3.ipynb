{
 "cells": [
  {
   "cell_type": "code",
   "execution_count": 31,
   "metadata": {
    "pycharm": {
     "is_executing": false
    }
   },
   "outputs": [],
   "source": [
    "#!pip install seaborn\n",
    "#!pip install scipy\n",
    "#!pip install statsmodels"
   ]
  },
  {
   "cell_type": "code",
   "execution_count": 32,
   "metadata": {
    "pycharm": {
     "is_executing": false
    }
   },
   "outputs": [],
   "source": [
    "import math\n",
    "\n",
    "import numpy as np\n",
    "import pandas as pd\n",
    "import matplotlib.pyplot as plt\n",
    "import seaborn as sns\n",
    "\n",
    "from sklearn.linear_model import LinearRegression\n",
    "from sklearn import metrics \n",
    "from sklearn.model_selection import train_test_split\n",
    "\n",
    "import scipy.stats as stats\n",
    "import scipy as sp\n",
    "\n",
    "\n",
    "import statsmodels.api as sm\n",
    "\n",
    "from IPython.display import display, display_html, Markdown"
   ]
  },
  {
   "cell_type": "code",
   "execution_count": 33,
   "metadata": {
    "pycharm": {
     "is_executing": false,
     "name": "#%%\n"
    }
   },
   "outputs": [],
   "source": [
    "def display_side_by_side(*args):\n",
    "    html_str=''\n",
    "    for df in args:\n",
    "        html_str+=df.to_html()\n",
    "    display_html(html_str.replace('table','table style=\"display:inline\"'),raw=True)"
   ]
  },
  {
   "cell_type": "code",
   "execution_count": 34,
   "metadata": {
    "pycharm": {
     "is_executing": false
    }
   },
   "outputs": [
    {
     "data": {
      "text/plain": "     t    y    x1    x2\n0    1  130  1100  2000\n1    2  230  1900  1400\n2    3  180  1300  1200\n3    4  140  1400   800\n4    5  110  1100  1000\n5    6  120  1700   600\n6    7  270  2300  1600\n7    8  190  1100  1500\n8    9  150  1300   800\n9   10  210  2000  1700\n10  11  170  1500  1200",
      "text/html": "<div>\n<style scoped>\n    .dataframe tbody tr th:only-of-type {\n        vertical-align: middle;\n    }\n\n    .dataframe tbody tr th {\n        vertical-align: top;\n    }\n\n    .dataframe thead th {\n        text-align: right;\n    }\n</style>\n<table border=\"1\" class=\"dataframe\">\n  <thead>\n    <tr style=\"text-align: right;\">\n      <th></th>\n      <th>t</th>\n      <th>y</th>\n      <th>x1</th>\n      <th>x2</th>\n    </tr>\n  </thead>\n  <tbody>\n    <tr>\n      <th>0</th>\n      <td>1</td>\n      <td>130</td>\n      <td>1100</td>\n      <td>2000</td>\n    </tr>\n    <tr>\n      <th>1</th>\n      <td>2</td>\n      <td>230</td>\n      <td>1900</td>\n      <td>1400</td>\n    </tr>\n    <tr>\n      <th>2</th>\n      <td>3</td>\n      <td>180</td>\n      <td>1300</td>\n      <td>1200</td>\n    </tr>\n    <tr>\n      <th>3</th>\n      <td>4</td>\n      <td>140</td>\n      <td>1400</td>\n      <td>800</td>\n    </tr>\n    <tr>\n      <th>4</th>\n      <td>5</td>\n      <td>110</td>\n      <td>1100</td>\n      <td>1000</td>\n    </tr>\n    <tr>\n      <th>5</th>\n      <td>6</td>\n      <td>120</td>\n      <td>1700</td>\n      <td>600</td>\n    </tr>\n    <tr>\n      <th>6</th>\n      <td>7</td>\n      <td>270</td>\n      <td>2300</td>\n      <td>1600</td>\n    </tr>\n    <tr>\n      <th>7</th>\n      <td>8</td>\n      <td>190</td>\n      <td>1100</td>\n      <td>1500</td>\n    </tr>\n    <tr>\n      <th>8</th>\n      <td>9</td>\n      <td>150</td>\n      <td>1300</td>\n      <td>800</td>\n    </tr>\n    <tr>\n      <th>9</th>\n      <td>10</td>\n      <td>210</td>\n      <td>2000</td>\n      <td>1700</td>\n    </tr>\n    <tr>\n      <th>10</th>\n      <td>11</td>\n      <td>170</td>\n      <td>1500</td>\n      <td>1200</td>\n    </tr>\n  </tbody>\n</table>\n</div>"
     },
     "metadata": {},
     "output_type": "execute_result",
     "execution_count": 34
    }
   ],
   "source": [
    "df = pd.read_csv('Lab3.csv', sep='\\t')\n",
    "\n",
    "df.head(20)"
   ]
  },
  {
   "cell_type": "code",
   "execution_count": 59,
   "metadata": {
    "pycharm": {
     "is_executing": false
    }
   },
   "outputs": [
    {
     "data": {
      "text/plain": "    const    x1    x2\n0     1.0  1100  2000\n1     1.0  1900  1400\n2     1.0  1300  1200\n3     1.0  1400   800\n4     1.0  1100  1000\n5     1.0  1700   600\n6     1.0  2300  1600\n7     1.0  1100  1500\n8     1.0  1300   800\n9     1.0  2000  1700\n10    1.0  1500  1200",
      "text/html": "<div>\n<style scoped>\n    .dataframe tbody tr th:only-of-type {\n        vertical-align: middle;\n    }\n\n    .dataframe tbody tr th {\n        vertical-align: top;\n    }\n\n    .dataframe thead th {\n        text-align: right;\n    }\n</style>\n<table border=\"1\" class=\"dataframe\">\n  <thead>\n    <tr style=\"text-align: right;\">\n      <th></th>\n      <th>const</th>\n      <th>x1</th>\n      <th>x2</th>\n    </tr>\n  </thead>\n  <tbody>\n    <tr>\n      <th>0</th>\n      <td>1.0</td>\n      <td>1100</td>\n      <td>2000</td>\n    </tr>\n    <tr>\n      <th>1</th>\n      <td>1.0</td>\n      <td>1900</td>\n      <td>1400</td>\n    </tr>\n    <tr>\n      <th>2</th>\n      <td>1.0</td>\n      <td>1300</td>\n      <td>1200</td>\n    </tr>\n    <tr>\n      <th>3</th>\n      <td>1.0</td>\n      <td>1400</td>\n      <td>800</td>\n    </tr>\n    <tr>\n      <th>4</th>\n      <td>1.0</td>\n      <td>1100</td>\n      <td>1000</td>\n    </tr>\n    <tr>\n      <th>5</th>\n      <td>1.0</td>\n      <td>1700</td>\n      <td>600</td>\n    </tr>\n    <tr>\n      <th>6</th>\n      <td>1.0</td>\n      <td>2300</td>\n      <td>1600</td>\n    </tr>\n    <tr>\n      <th>7</th>\n      <td>1.0</td>\n      <td>1100</td>\n      <td>1500</td>\n    </tr>\n    <tr>\n      <th>8</th>\n      <td>1.0</td>\n      <td>1300</td>\n      <td>800</td>\n    </tr>\n    <tr>\n      <th>9</th>\n      <td>1.0</td>\n      <td>2000</td>\n      <td>1700</td>\n    </tr>\n    <tr>\n      <th>10</th>\n      <td>1.0</td>\n      <td>1500</td>\n      <td>1200</td>\n    </tr>\n  </tbody>\n</table>\n</div>"
     },
     "metadata": {},
     "output_type": "display_data"
    },
    {
     "name": "stderr",
     "text": [
      "c:\\python38\\lib\\site-packages\\scipy\\stats\\stats.py:1603: UserWarning: kurtosistest only valid for n>=20 ... continuing anyway, n=11\n",
      "  warnings.warn(\"kurtosistest only valid for n>=20 ... continuing \"\n"
     ],
     "output_type": "stream"
    },
    {
     "data": {
      "text/plain": "<class 'statsmodels.iolib.summary.Summary'>\n\"\"\"\n                            OLS Regression Results                            \n==============================================================================\nDep. Variable:                      y   R-squared:                       0.702\nModel:                            OLS   Adj. R-squared:                  0.627\nMethod:                 Least Squares   F-statistic:                     9.405\nDate:                Mon, 26 Oct 2020   Prob (F-statistic):            0.00793\nTime:                        18:04:56   Log-Likelihood:                -51.381\nNo. Observations:                  11   AIC:                             108.8\nDf Residuals:                       8   BIC:                             110.0\nDf Model:                           2                                         \nCovariance Type:            nonrobust                                         \n==============================================================================\n                 coef    std err          t      P>|t|      [0.025      0.975]\n------------------------------------------------------------------------------\nconst         -9.6258     43.180     -0.223      0.829    -109.198      89.947\nx1             0.0833      0.024      3.494      0.008       0.028       0.138\nx2             0.0445      0.022      1.982      0.083      -0.007       0.096\n==============================================================================\nOmnibus:                        0.871   Durbin-Watson:                   1.589\nProb(Omnibus):                  0.647   Jarque-Bera (JB):                0.650\nSkew:                          -0.193   Prob(JB):                        0.722\nKurtosis:                       1.873   Cond. No.                     9.52e+03\n==============================================================================\n\nNotes:\n[1] Standard Errors assume that the covariance matrix of the errors is correctly specified.\n[2] The condition number is large, 9.52e+03. This might indicate that there are\nstrong multicollinearity or other numerical problems.\n\"\"\"",
      "text/html": "<table class=\"simpletable\">\n<caption>OLS Regression Results</caption>\n<tr>\n  <th>Dep. Variable:</th>            <td>y</td>        <th>  R-squared:         </th> <td>   0.702</td>\n</tr>\n<tr>\n  <th>Model:</th>                   <td>OLS</td>       <th>  Adj. R-squared:    </th> <td>   0.627</td>\n</tr>\n<tr>\n  <th>Method:</th>             <td>Least Squares</td>  <th>  F-statistic:       </th> <td>   9.405</td>\n</tr>\n<tr>\n  <th>Date:</th>             <td>Mon, 26 Oct 2020</td> <th>  Prob (F-statistic):</th>  <td>0.00793</td>\n</tr>\n<tr>\n  <th>Time:</th>                 <td>18:04:56</td>     <th>  Log-Likelihood:    </th> <td> -51.381</td>\n</tr>\n<tr>\n  <th>No. Observations:</th>      <td>    11</td>      <th>  AIC:               </th> <td>   108.8</td>\n</tr>\n<tr>\n  <th>Df Residuals:</th>          <td>     8</td>      <th>  BIC:               </th> <td>   110.0</td>\n</tr>\n<tr>\n  <th>Df Model:</th>              <td>     2</td>      <th>                     </th>     <td> </td>   \n</tr>\n<tr>\n  <th>Covariance Type:</th>      <td>nonrobust</td>    <th>                     </th>     <td> </td>   \n</tr>\n</table>\n<table class=\"simpletable\">\n<tr>\n    <td></td>       <th>coef</th>     <th>std err</th>      <th>t</th>      <th>P>|t|</th>  <th>[0.025</th>    <th>0.975]</th>  \n</tr>\n<tr>\n  <th>const</th> <td>   -9.6258</td> <td>   43.180</td> <td>   -0.223</td> <td> 0.829</td> <td> -109.198</td> <td>   89.947</td>\n</tr>\n<tr>\n  <th>x1</th>    <td>    0.0833</td> <td>    0.024</td> <td>    3.494</td> <td> 0.008</td> <td>    0.028</td> <td>    0.138</td>\n</tr>\n<tr>\n  <th>x2</th>    <td>    0.0445</td> <td>    0.022</td> <td>    1.982</td> <td> 0.083</td> <td>   -0.007</td> <td>    0.096</td>\n</tr>\n</table>\n<table class=\"simpletable\">\n<tr>\n  <th>Omnibus:</th>       <td> 0.871</td> <th>  Durbin-Watson:     </th> <td>   1.589</td>\n</tr>\n<tr>\n  <th>Prob(Omnibus):</th> <td> 0.647</td> <th>  Jarque-Bera (JB):  </th> <td>   0.650</td>\n</tr>\n<tr>\n  <th>Skew:</th>          <td>-0.193</td> <th>  Prob(JB):          </th> <td>   0.722</td>\n</tr>\n<tr>\n  <th>Kurtosis:</th>      <td> 1.873</td> <th>  Cond. No.          </th> <td>9.52e+03</td>\n</tr>\n</table><br/><br/>Notes:<br/>[1] Standard Errors assume that the covariance matrix of the errors is correctly specified.<br/>[2] The condition number is large, 9.52e+03. This might indicate that there are<br/>strong multicollinearity or other numerical problems."
     },
     "metadata": {},
     "output_type": "execute_result",
     "execution_count": 59
    }
   ],
   "source": [
    "y = df['y']\n",
    "X = df.drop(['y', 't'], axis=1)\n",
    "\n",
    "k = 3\n",
    "n = len(df.index)\n",
    "\n",
    "X = sm.add_constant(X)\n",
    "display(X)\n",
    "est = sm.OLS(y, X)\n",
    "est2 = est.fit()\n",
    "est2.summary()"
   ]
  },
  {
   "cell_type": "code",
   "execution_count": 37,
   "metadata": {
    "pycharm": {
     "is_executing": false
    }
   },
   "outputs": [
    {
     "data": {
      "text/plain": "<IPython.core.display.Markdown object>",
      "text/markdown": "F test = 9.404622503787726"
     },
     "metadata": {},
     "output_type": "display_data"
    },
    {
     "data": {
      "text/html": "<table style=\"display:inline\" border=\"1\" class=\"dataframe\">\n  <thead>\n    <tr style=\"text-align: right;\">\n      <th></th>\n      <th>params</th>\n      <th>t</th>\n      <th>se</th>\n    </tr>\n  </thead>\n  <tbody>\n    <tr>\n      <th>0</th>\n      <td>const</td>\n      <td>-0.222925</td>\n      <td>43.179674</td>\n    </tr>\n    <tr>\n      <th>1</th>\n      <td>x1</td>\n      <td>3.494470</td>\n      <td>0.023848</td>\n    </tr>\n    <tr>\n      <th>2</th>\n      <td>x2</td>\n      <td>1.981535</td>\n      <td>0.022461</td>\n    </tr>\n  </tbody>\n</table style=\"display:inline\"><table style=\"display:inline\" border=\"1\" class=\"dataframe\">\n  <thead>\n    <tr style=\"text-align: right;\">\n      <th></th>\n      <th>gamma</th>\n      <th>t</th>\n      <th>f</th>\n    </tr>\n  </thead>\n  <tbody>\n    <tr>\n      <th>0</th>\n      <td>0.90</td>\n      <td>1.745884</td>\n      <td>2.332745</td>\n    </tr>\n    <tr>\n      <th>1</th>\n      <td>0.95</td>\n      <td>2.119905</td>\n      <td>3.006917</td>\n    </tr>\n    <tr>\n      <th>2</th>\n      <td>0.99</td>\n      <td>2.920782</td>\n      <td>4.772578</td>\n    </tr>\n  </tbody>\n</table style=\"display:inline\"><table style=\"display:inline\" border=\"1\" class=\"dataframe\">\n  <thead>\n    <tr style=\"text-align: right;\">\n      <th></th>\n      <th>gamma</th>\n      <th>const_left</th>\n      <th>const_right</th>\n      <th>x1_left</th>\n      <th>x1_right</th>\n      <th>x2_left</th>\n      <th>x2_right</th>\n    </tr>\n  </thead>\n  <tbody>\n    <tr>\n      <th>0</th>\n      <td>0.90</td>\n      <td>-135.894020</td>\n      <td>116.642342</td>\n      <td>0.013598</td>\n      <td>0.153072</td>\n      <td>-0.021174</td>\n      <td>0.110187</td>\n    </tr>\n    <tr>\n      <th>1</th>\n      <td>0.95</td>\n      <td>-172.386019</td>\n      <td>153.134341</td>\n      <td>-0.006556</td>\n      <td>0.173226</td>\n      <td>-0.040156</td>\n      <td>0.129169</td>\n    </tr>\n    <tr>\n      <th>2</th>\n      <td>0.99</td>\n      <td>-267.958737</td>\n      <td>248.707059</td>\n      <td>-0.059340</td>\n      <td>0.226010</td>\n      <td>-0.089869</td>\n      <td>0.178882</td>\n    </tr>\n  </tbody>\n</table style=\"display:inline\">"
     },
     "metadata": {},
     "output_type": "display_data"
    }
   ],
   "source": [
    "tval = pd.DataFrame({\"params\" : [\"const\", \"x1\", \"x2\"] , \n",
    "        \"t\" : [ i for i in est2.tvalues],\n",
    "        \"se\" : [ i for i in est2.bse] })\n",
    "tned = pd.DataFrame({\"gamma\" : [0.9, 0.95, 0.99]})\\\n",
    "    .assign(t = lambda x: stats.t.ppf(1 - (1 - x.gamma) / 2, 20 - 3 - 1))\\\n",
    "    .assign(f = lambda x: stats.f.ppf(x.gamma, 3 + 1, 20 - 3 - 1))\n",
    "\n",
    "tlvl = pd.DataFrame({\"gamma\" : [0.9, 0.95, 0.99]})\n",
    "\n",
    "for p in ['const', 'x1', 'x2']:\n",
    "    left = []\n",
    "    right = []\n",
    "    for g in 0, 1, 2:\n",
    "        left.append(est2.params[p] - tned.f[g] * est2.bse[p] * math.sqrt(n / (n - k - 1)))\n",
    "        right.append(est2.params[p] + tned.f[g] * est2.bse[p] * math.sqrt(n / (n - k - 1)))\n",
    "    tlvl[p + \"_left\"] = pd.Series(left, index=tlvl.index)\n",
    "    tlvl[p + \"_right\"]= pd.Series(right, index=tlvl.index)\n",
    "\n",
    "display(Markdown(\"F test = {}\".format(est2.fvalue)))\n",
    "display_side_by_side(tval, tned, tlvl)"
   ]
  },
  {
   "cell_type": "markdown",
   "metadata": {},
   "source": [
    "**F тест значительно больше для для всех gamma, следовательно регрессия имеет статистическую значимость.**"
   ]
  },
  {
   "cell_type": "code",
   "execution_count": 73,
   "metadata": {
    "pycharm": {
     "is_executing": false,
     "name": "#%%\n"
    }
   },
   "outputs": [
    {
     "data": {
      "text/plain": "<IPython.core.display.Markdown object>",
      "text/markdown": "Для X1 = 1500 и X2 = 1800 y = 195.48830239198662"
     },
     "metadata": {},
     "output_type": "display_data"
    },
    {
     "data": {
      "text/plain": "<IPython.core.display.Markdown object>",
      "text/markdown": "При увеличенни х1 на 500 у увеличится на 41.66754611049626"
     },
     "metadata": {},
     "output_type": "display_data"
    },
    {
     "data": {
      "text/plain": "<IPython.core.display.Markdown object>",
      "text/markdown": "При увеличенни х1 на 300 и x2 на 500 у увеличится на 47.25372306263547"
     },
     "metadata": {},
     "output_type": "display_data"
    }
   ],
   "source": [
    "display(Markdown(\"Для X1 = 1500 и X2 = 1800 y = {}\".format(est2.predict([1.0, 1500, 1800])[0])))\n",
    "display(Markdown(\"При увеличенни х1 на 500 у увеличится на {}\".format(est2.params.x1 * 500)))\n",
    "display(Markdown(\"При увеличенни х1 на 300 и x2 на 500 у увеличится на {}\".format(est2.params.x2 * 500 + est2.params.x1 * 300)))"
   ]
  },
  {
   "cell_type": "code",
   "execution_count": 93,
   "outputs": [
    {
     "data": {
      "text/plain": "<IPython.core.display.Markdown object>",
      "text/markdown": "Если x1 увеличить на 10 %, то y увеличиться на 7.335799755156573 %"
     },
     "metadata": {},
     "output_type": "display_data"
    }
   ],
   "source": [
    "Xnew = df.drop(['y', 't'], axis=1)\n",
    "Xnew.x1 = Xnew.x1 * 1.1\n",
    "Xnew = sm.add_constant(Xnew)\n",
    "y_new = est2.predict(Xnew)\n",
    "y_old = est2.predict(X)\n",
    "display(Markdown(\"Если x1 увеличить на 10 %, то y увеличиться на {} %\".format(np.mean((y_new / y_old) * 100 - 100))))\n"
   ],
   "metadata": {
    "collapsed": false,
    "pycharm": {
     "name": "#%%\n",
     "is_executing": false
    }
   }
  },
  {
   "cell_type": "code",
   "execution_count": 95,
   "outputs": [
    {
     "data": {
      "text/plain": "<Figure size 432x288 with 2 Axes>",
      "image/png": "[encoded data removed]"
     },
     "metadata": {
      "needs_background": "light"
     },
     "output_type": "display_data"
    }
   ],
   "source": [
    "cols = ['x1', 'x2', 'y']\n",
    "hm = sns.heatmap(df[cols].corr(),\n",
    "                 cbar=True,\n",
    "                 annot=True)"
   ],
   "metadata": {
    "collapsed": false,
    "pycharm": {
     "name": "#%%\n",
     "is_executing": false
    }
   }
  }
 ],
 "metadata": {
  "kernelspec": {
   "display_name": "Python 3",
   "language": "python",
   "name": "python3"
  },
  "language_info": {
   "codemirror_mode": {
    "name": "ipython",
    "version": 3
   },
   "file_extension": ".py",
   "mimetype": "text/x-python",
   "name": "python",
   "nbconvert_exporter": "python",
   "pygments_lexer": "ipython3",
   "version": "3.8.3"
  },
  "pycharm": {
   "stem_cell": {
    "cell_type": "raw",
    "source": [],
    "metadata": {
     "collapsed": false
    }
   }
  }
 },
 "nbformat": 4,
 "nbformat_minor": 4
}