{
 "cells": [
  {
   "cell_type": "code",
   "execution_count": 1,
   "metadata": {
    "pycharm": {
     "is_executing": false
    },
    "scrolled": false
   },
   "outputs": [
    {
     "name": "stdout",
     "output_type": "stream",
     "text": [
      "\n",
      "Usage:   \n",
      "  pip install [options] <requirement specifier> [package-index-options] ...\n",
      "  pip install [options] -r <requirements file> [package-index-options] ...\n",
      "  pip install [options] [-e] <vcs project url> ...\n",
      "  pip install [options] [-e] <local project path> ...\n",
      "  pip install [options] <archive url/path> ...\n",
      "\n",
      "no such option: -y\n",
      "\n",
      "Usage:   \n",
      "  pip install [options] <requirement specifier> [package-index-options] ...\n",
      "  pip install [options] -r <requirements file> [package-index-options] ...\n",
      "  pip install [options] [-e] <vcs project url> ...\n",
      "  pip install [options] [-e] <local project path> ...\n",
      "  pip install [options] <archive url/path> ...\n",
      "\n",
      "no such option: -y\n",
      "\n",
      "Usage:   \n",
      "  pip install [options] <requirement specifier> [package-index-options] ...\n",
      "  pip install [options] -r <requirements file> [package-index-options] ...\n",
      "  pip install [options] [-e] <vcs project url> ...\n",
      "  pip install [options] [-e] <local project path> ...\n",
      "  pip install [options] <archive url/path> ...\n",
      "\n",
      "no such option: -y\n",
      "Collecting package metadata (current_repodata.json): done\n",
      "Solving environment: done\n",
      "\n",
      "\n",
      "==> WARNING: A newer version of conda exists. <==\n",
      "  current version: 4.8.2\n",
      "  latest version: 4.9.0\n",
      "\n",
      "Please update conda by running\n",
      "\n",
      "    $ conda update -n base conda\n",
      "\n",
      "\n",
      "\n",
      "# All requested packages already installed.\n",
      "\n",
      "Collecting package metadata (current_repodata.json): done\n",
      "Solving environment: done\n",
      "\n",
      "## Package Plan ##\n",
      "\n",
      "  environment location: /srv/conda\n",
      "\n",
      "  added / updated specs:\n",
      "    - conda\n",
      "\n",
      "\n",
      "The following packages will be downloaded:\n",
      "\n",
      "    package                    |            build\n",
      "    ---------------------------|-----------------\n",
      "    _openmp_mutex-4.5          |            1_gnu          22 KB  conda-forge\n",
      "    brotlipy-0.7.0             |py37hb5d75c8_1001         346 KB  conda-forge\n",
      "    ca-certificates-2020.11.8  |       ha878542_0         145 KB  conda-forge\n",
      "    cffi-1.14.3                |   py37h00ebd2e_1         224 KB  conda-forge\n",
      "    chardet-3.0.4              |py37he5f6b98_1008         170 KB  conda-forge\n",
      "    conda-4.9.0                |   py37he5f6b98_1         3.0 MB  conda-forge\n",
      "    conda-package-handling-1.7.2|   py37hb5d75c8_0         915 KB  conda-forge\n",
      "    cryptography-3.2.1         |   py37hc72a4ac_0         623 KB  conda-forge\n",
      "    icu-67.1                   |       he1b5a44_0        12.9 MB  conda-forge\n",
      "    idna-2.10                  |     pyh9f0ad1d_0          52 KB  conda-forge\n",
      "    ld_impl_linux-64-2.35      |       h769bd43_9         617 KB  conda-forge\n",
      "    libarchive-3.3.3           |    hddc7a2b_1008         1.4 MB  conda-forge\n",
      "    libedit-3.1.20191231       |       he28a2e2_2         121 KB  conda-forge\n",
      "    libffi-3.2.1               |    he1b5a44_1007          47 KB  conda-forge\n",
      "    libgcc-ng-9.3.0            |      h5dbcf3e_17         7.8 MB  conda-forge\n",
      "    libgomp-9.3.0              |      h5dbcf3e_17         378 KB  conda-forge\n",
      "    libstdcxx-ng-9.3.0         |      h2ae2ef3_17         4.0 MB  conda-forge\n",
      "    libxml2-2.9.10             |       h68273f3_2         1.3 MB  conda-forge\n",
      "    lz4-c-1.9.2                |       he1b5a44_3         203 KB  conda-forge\n",
      "    ncurses-6.2                |       h58526e2_3        1022 KB  conda-forge\n",
      "    pycosat-0.6.3              |py37hb5d75c8_1005         107 KB  conda-forge\n",
      "    pycparser-2.20             |     pyh9f0ad1d_2          94 KB  conda-forge\n",
      "    pyopenssl-19.1.0           |             py_1          47 KB  conda-forge\n",
      "    pysocks-1.7.1              |   py37he5f6b98_2          27 KB  conda-forge\n",
      "    readline-8.0               |       he28a2e2_2         281 KB  conda-forge\n",
      "    requests-2.24.0            |     pyh9f0ad1d_0          47 KB  conda-forge\n",
      "    ruamel_yaml-0.15.80        |py37hb5d75c8_1003         252 KB  conda-forge\n",
      "    setuptools-49.6.0          |   py37he5f6b98_2         944 KB  conda-forge\n",
      "    six-1.15.0                 |     pyh9f0ad1d_0          14 KB  conda-forge\n",
      "    sqlite-3.33.0              |       h4cf870e_1         1.4 MB  conda-forge\n",
      "    tk-8.6.10                  |       hed695b0_1         3.2 MB  conda-forge\n",
      "    tqdm-4.51.0                |     pyh9f0ad1d_0          55 KB  conda-forge\n",
      "    urllib3-1.25.11            |             py_0          93 KB  conda-forge\n",
      "    wheel-0.35.1               |     pyh9f0ad1d_0          29 KB  conda-forge\n",
      "    xz-5.2.5                   |       h516909a_1         343 KB  conda-forge\n",
      "    yaml-0.2.5                 |       h516909a_0          82 KB  conda-forge\n",
      "    zlib-1.2.11                |    h516909a_1010         106 KB  conda-forge\n",
      "    zstd-1.4.5                 |       h6597ccf_2         712 KB  conda-forge\n",
      "    ------------------------------------------------------------\n",
      "                                           Total:        43.0 MB\n",
      "\n",
      "The following NEW packages will be INSTALLED:\n",
      "\n",
      "  brotlipy           conda-forge/linux-64::brotlipy-0.7.0-py37hb5d75c8_1001\n",
      "\n",
      "The following packages will be UPDATED:\n",
      "\n",
      "  _openmp_mutex                                   4.5-0_gnu --> 4.5-1_gnu\n",
      "  ca-certificates                      2020.6.20-hecda079_0 --> 2020.11.8-ha878542_0\n",
      "  cffi                                1.13.2-py37h8022711_0 --> 1.14.3-py37h00ebd2e_1\n",
      "  chardet                                   3.0.4-py37_1003 --> 3.0.4-py37he5f6b98_1008\n",
      "  conda                                        4.8.2-py37_0 --> 4.9.0-py37he5f6b98_1\n",
      "  conda-package-han~                   1.6.0-py37h516909a_1 --> 1.7.2-py37hb5d75c8_0\n",
      "  cryptography                           2.8-py37h72c5cf5_1 --> 3.2.1-py37hc72a4ac_0\n",
      "  icu                                       64.2-he1b5a44_1 --> 67.1-he1b5a44_0\n",
      "  idna               conda-forge/linux-64::idna-2.8-py37_1~ --> conda-forge/noarch::idna-2.10-pyh9f0ad1d_0\n",
      "  ld_impl_linux-64                        2.33.1-h53a641e_8 --> 2.35-h769bd43_9\n",
      "  libarchive                            3.3.3-hc47fbbf_1007 --> 3.3.3-hddc7a2b_1008\n",
      "  libffi                                3.2.1-he1b5a44_1006 --> 3.2.1-he1b5a44_1007\n",
      "  libgcc-ng                                9.2.0-h24d8f2e_2 --> 9.3.0-h5dbcf3e_17\n",
      "  libgomp                                  9.2.0-h24d8f2e_2 --> 9.3.0-h5dbcf3e_17\n",
      "  libstdcxx-ng                             9.2.0-hdf63c60_2 --> 9.3.0-h2ae2ef3_17\n",
      "  libxml2                                 2.9.10-hee79883_0 --> 2.9.10-h68273f3_2\n",
      "  lz4-c                                 1.8.3-he1b5a44_1001 --> 1.9.2-he1b5a44_3\n",
      "  ncurses                                 6.1-hf484d3e_1002 --> 6.2-h58526e2_3\n",
      "  pycosat                           0.6.3-py37h516909a_1002 --> 0.6.3-py37hb5d75c8_1005\n",
      "  pycparser          conda-forge/linux-64::pycparser-2.19-~ --> conda-forge/noarch::pycparser-2.20-pyh9f0ad1d_2\n",
      "  pyopenssl          conda-forge/linux-64::pyopenssl-19.1.~ --> conda-forge/noarch::pyopenssl-19.1.0-py_1\n",
      "  pysocks                                      1.7.1-py37_0 --> 1.7.1-py37he5f6b98_2\n",
      "  readline                                   8.0-hf8c457e_0 --> 8.0-he28a2e2_2\n",
      "  requests           conda-forge/linux-64::requests-2.22.0~ --> conda-forge/noarch::requests-2.24.0-pyh9f0ad1d_0\n",
      "  ruamel_yaml                     0.15.80-py37h516909a_1000 --> 0.15.80-py37hb5d75c8_1003\n",
      "  setuptools                                  45.2.0-py37_0 --> 49.6.0-py37he5f6b98_2\n",
      "  six                conda-forge/linux-64::six-1.14.0-py37~ --> conda-forge/noarch::six-1.15.0-pyh9f0ad1d_0\n",
      "  sqlite                                  3.30.1-hcee41ef_0 --> 3.33.0-h4cf870e_1\n",
      "  tk                                      8.6.10-hed695b0_0 --> 8.6.10-hed695b0_1\n",
      "  tqdm                                          4.42.1-py_0 --> 4.51.0-pyh9f0ad1d_0\n",
      "  urllib3            conda-forge/linux-64::urllib3-1.25.7-~ --> conda-forge/noarch::urllib3-1.25.11-py_0\n",
      "  wheel                                         0.34.2-py_1 --> 0.35.1-pyh9f0ad1d_0\n",
      "  xz                                    5.2.4-h14c3975_1001 --> 5.2.5-h516909a_1\n",
      "  yaml                                     0.2.2-h516909a_1 --> 0.2.5-h516909a_0\n",
      "  zlib                                 1.2.11-h516909a_1006 --> 1.2.11-h516909a_1010\n",
      "  zstd                                     1.4.4-h3b9ef0a_2 --> 1.4.5-h6597ccf_2\n",
      "\n",
      "The following packages will be DOWNGRADED:\n",
      "\n",
      "  libedit                           3.1.20191231-h46ee950_2 --> 3.1.20191231-he28a2e2_2\n",
      "\n",
      "\n",
      "\n",
      "Downloading and Extracting Packages\n",
      "ld_impl_linux-64-2.3 | 617 KB    | ##################################### | 100% \n",
      "libgcc-ng-9.3.0      | 7.8 MB    | ##################################### | 100% \n",
      "conda-package-handli | 915 KB    | ##################################### | 100% \n",
      "cryptography-3.2.1   | 623 KB    | ##################################### | 100% \n",
      "yaml-0.2.5           | 82 KB     | ##################################### | 100% \n",
      "_openmp_mutex-4.5    | 22 KB     | ##################################### | 100% \n",
      "six-1.15.0           | 14 KB     | ##################################### | 100% \n",
      "chardet-3.0.4        | 170 KB    | ##################################### | 100% \n",
      "libstdcxx-ng-9.3.0   | 4.0 MB    | ##################################### | 100% \n",
      "icu-67.1             | 12.9 MB   | ##################################### | 100% \n",
      "tqdm-4.51.0          | 55 KB     | ##################################### | 100% \n",
      "libgomp-9.3.0        | 378 KB    | ##################################### | 100% \n",
      "pysocks-1.7.1        | 27 KB     | ##################################### | 100% \n",
      "pycparser-2.20       | 94 KB     | ##################################### | 100% \n",
      "requests-2.24.0      | 47 KB     | ##################################### | 100% \n",
      "setuptools-49.6.0    | 944 KB    | ##################################### | 100% \n",
      "idna-2.10            | 52 KB     | ##################################### | 100% \n",
      "urllib3-1.25.11      | 93 KB     | ##################################### | 100% \n",
      "libffi-3.2.1         | 47 KB     | ##################################### | 100% \n",
      "zlib-1.2.11          | 106 KB    | ##################################### | 100% \n",
      "cffi-1.14.3          | 224 KB    | ##################################### | 100% \n",
      "libxml2-2.9.10       | 1.3 MB    | ##################################### | 100% \n",
      "ruamel_yaml-0.15.80  | 252 KB    | ##################################### | 100% \n",
      "ca-certificates-2020 | 145 KB    | ##################################### | 100% \n",
      "ncurses-6.2          | 1022 KB   | ##################################### | 100% \n",
      "pyopenssl-19.1.0     | 47 KB     | ##################################### | 100% \n",
      "readline-8.0         | 281 KB    | ##################################### | 100% \n",
      "zstd-1.4.5           | 712 KB    | ##################################### | 100% \n",
      "conda-4.9.0          | 3.0 MB    | ##################################### | 100% \n",
      "sqlite-3.33.0        | 1.4 MB    | ##################################### | 100% \n",
      "brotlipy-0.7.0       | 346 KB    | ##################################### | 100% \n",
      "libarchive-3.3.3     | 1.4 MB    | ##################################### | 100% \n",
      "lz4-c-1.9.2          | 203 KB    | ##################################### | 100% \n",
      "pycosat-0.6.3        | 107 KB    | ##################################### | 100% \n",
      "wheel-0.35.1         | 29 KB     | ##################################### | 100% \n",
      "xz-5.2.5             | 343 KB    | ##################################### | 100% \n",
      "libedit-3.1.20191231 | 121 KB    | ##################################### | 100% \n",
      "tk-8.6.10            | 3.2 MB    | ##################################### | 100% \n",
      "Preparing transaction: done\n",
      "Verifying transaction: done\n",
      "Executing transaction: done\n"
     ]
    }
   ],
   "source": [
    "!pip install seaborn \n",
    "!pip install scipy \n",
    "!pip install statsmodels \n",
    "!conda install -c anaconda seaborn -y\n",
    "!conda update -n base conda -y"
   ]
  },
  {
   "cell_type": "code",
   "execution_count": 2,
   "metadata": {
    "pycharm": {
     "is_executing": false
    }
   },
   "outputs": [],
   "source": [
    "import math\n",
    "\n",
    "import numpy as np\n",
    "import pandas as pd\n",
    "import matplotlib.pyplot as plt\n",
    "import seaborn as sns\n",
    "\n",
    "from sklearn.linear_model import LinearRegression\n",
    "from sklearn import metrics \n",
    "from sklearn.model_selection import train_test_split\n",
    "\n",
    "import scipy.stats as stats\n",
    "import scipy as sp\n",
    "\n",
    "\n",
    "import statsmodels.api as sm\n",
    "\n",
    "from IPython.display import display, display_html, Markdown"
   ]
  },
  {
   "cell_type": "code",
   "execution_count": 3,
   "metadata": {
    "pycharm": {
     "is_executing": false,
     "name": "#%%\n"
    }
   },
   "outputs": [],
   "source": [
    "def display_side_by_side(*args):\n",
    "    html_str=''\n",
    "    for df in args:\n",
    "        html_str+=df.to_html()\n",
    "    display_html(html_str.replace('table','table style=\"display:inline\"'),raw=True)"
   ]
  },
  {
   "cell_type": "code",
   "execution_count": 4,
   "metadata": {
    "pycharm": {
     "is_executing": false
    }
   },
   "outputs": [
    {
     "data": {
      "text/html": [
       "<div>\n",
       "<style scoped>\n",
       "    .dataframe tbody tr th:only-of-type {\n",
       "        vertical-align: middle;\n",
       "    }\n",
       "\n",
       "    .dataframe tbody tr th {\n",
       "        vertical-align: top;\n",
       "    }\n",
       "\n",
       "    .dataframe thead th {\n",
       "        text-align: right;\n",
       "    }\n",
       "</style>\n",
       "<table border=\"1\" class=\"dataframe\">\n",
       "  <thead>\n",
       "    <tr style=\"text-align: right;\">\n",
       "      <th></th>\n",
       "      <th>t</th>\n",
       "      <th>y</th>\n",
       "      <th>x1</th>\n",
       "      <th>x2</th>\n",
       "    </tr>\n",
       "  </thead>\n",
       "  <tbody>\n",
       "    <tr>\n",
       "      <th>0</th>\n",
       "      <td>1</td>\n",
       "      <td>130</td>\n",
       "      <td>1100</td>\n",
       "      <td>2000</td>\n",
       "    </tr>\n",
       "    <tr>\n",
       "      <th>1</th>\n",
       "      <td>2</td>\n",
       "      <td>230</td>\n",
       "      <td>1900</td>\n",
       "      <td>1400</td>\n",
       "    </tr>\n",
       "    <tr>\n",
       "      <th>2</th>\n",
       "      <td>3</td>\n",
       "      <td>180</td>\n",
       "      <td>1300</td>\n",
       "      <td>1200</td>\n",
       "    </tr>\n",
       "    <tr>\n",
       "      <th>3</th>\n",
       "      <td>4</td>\n",
       "      <td>140</td>\n",
       "      <td>1400</td>\n",
       "      <td>800</td>\n",
       "    </tr>\n",
       "    <tr>\n",
       "      <th>4</th>\n",
       "      <td>5</td>\n",
       "      <td>110</td>\n",
       "      <td>1100</td>\n",
       "      <td>1000</td>\n",
       "    </tr>\n",
       "    <tr>\n",
       "      <th>5</th>\n",
       "      <td>6</td>\n",
       "      <td>120</td>\n",
       "      <td>1700</td>\n",
       "      <td>600</td>\n",
       "    </tr>\n",
       "    <tr>\n",
       "      <th>6</th>\n",
       "      <td>7</td>\n",
       "      <td>270</td>\n",
       "      <td>2300</td>\n",
       "      <td>1600</td>\n",
       "    </tr>\n",
       "    <tr>\n",
       "      <th>7</th>\n",
       "      <td>8</td>\n",
       "      <td>190</td>\n",
       "      <td>1100</td>\n",
       "      <td>1500</td>\n",
       "    </tr>\n",
       "    <tr>\n",
       "      <th>8</th>\n",
       "      <td>9</td>\n",
       "      <td>150</td>\n",
       "      <td>1300</td>\n",
       "      <td>800</td>\n",
       "    </tr>\n",
       "    <tr>\n",
       "      <th>9</th>\n",
       "      <td>10</td>\n",
       "      <td>210</td>\n",
       "      <td>2000</td>\n",
       "      <td>1700</td>\n",
       "    </tr>\n",
       "    <tr>\n",
       "      <th>10</th>\n",
       "      <td>11</td>\n",
       "      <td>170</td>\n",
       "      <td>1500</td>\n",
       "      <td>1200</td>\n",
       "    </tr>\n",
       "  </tbody>\n",
       "</table>\n",
       "</div>"
      ],
      "text/plain": [
       "     t    y    x1    x2\n",
       "0    1  130  1100  2000\n",
       "1    2  230  1900  1400\n",
       "2    3  180  1300  1200\n",
       "3    4  140  1400   800\n",
       "4    5  110  1100  1000\n",
       "5    6  120  1700   600\n",
       "6    7  270  2300  1600\n",
       "7    8  190  1100  1500\n",
       "8    9  150  1300   800\n",
       "9   10  210  2000  1700\n",
       "10  11  170  1500  1200"
      ]
     },
     "execution_count": 4,
     "metadata": {},
     "output_type": "execute_result"
    }
   ],
   "source": [
    "df = pd.read_csv('Lab3.csv', sep='\\t')\n",
    "\n",
    "df.head(20)"
   ]
  },
  {
   "cell_type": "code",
   "execution_count": 5,
   "metadata": {
    "pycharm": {
     "is_executing": false
    }
   },
   "outputs": [
    {
     "data": {
      "text/html": [
       "<div>\n",
       "<style scoped>\n",
       "    .dataframe tbody tr th:only-of-type {\n",
       "        vertical-align: middle;\n",
       "    }\n",
       "\n",
       "    .dataframe tbody tr th {\n",
       "        vertical-align: top;\n",
       "    }\n",
       "\n",
       "    .dataframe thead th {\n",
       "        text-align: right;\n",
       "    }\n",
       "</style>\n",
       "<table border=\"1\" class=\"dataframe\">\n",
       "  <thead>\n",
       "    <tr style=\"text-align: right;\">\n",
       "      <th></th>\n",
       "      <th>const</th>\n",
       "      <th>x1</th>\n",
       "      <th>x2</th>\n",
       "    </tr>\n",
       "  </thead>\n",
       "  <tbody>\n",
       "    <tr>\n",
       "      <th>0</th>\n",
       "      <td>1.0</td>\n",
       "      <td>1100</td>\n",
       "      <td>2000</td>\n",
       "    </tr>\n",
       "    <tr>\n",
       "      <th>1</th>\n",
       "      <td>1.0</td>\n",
       "      <td>1900</td>\n",
       "      <td>1400</td>\n",
       "    </tr>\n",
       "    <tr>\n",
       "      <th>2</th>\n",
       "      <td>1.0</td>\n",
       "      <td>1300</td>\n",
       "      <td>1200</td>\n",
       "    </tr>\n",
       "    <tr>\n",
       "      <th>3</th>\n",
       "      <td>1.0</td>\n",
       "      <td>1400</td>\n",
       "      <td>800</td>\n",
       "    </tr>\n",
       "    <tr>\n",
       "      <th>4</th>\n",
       "      <td>1.0</td>\n",
       "      <td>1100</td>\n",
       "      <td>1000</td>\n",
       "    </tr>\n",
       "    <tr>\n",
       "      <th>5</th>\n",
       "      <td>1.0</td>\n",
       "      <td>1700</td>\n",
       "      <td>600</td>\n",
       "    </tr>\n",
       "    <tr>\n",
       "      <th>6</th>\n",
       "      <td>1.0</td>\n",
       "      <td>2300</td>\n",
       "      <td>1600</td>\n",
       "    </tr>\n",
       "    <tr>\n",
       "      <th>7</th>\n",
       "      <td>1.0</td>\n",
       "      <td>1100</td>\n",
       "      <td>1500</td>\n",
       "    </tr>\n",
       "    <tr>\n",
       "      <th>8</th>\n",
       "      <td>1.0</td>\n",
       "      <td>1300</td>\n",
       "      <td>800</td>\n",
       "    </tr>\n",
       "    <tr>\n",
       "      <th>9</th>\n",
       "      <td>1.0</td>\n",
       "      <td>2000</td>\n",
       "      <td>1700</td>\n",
       "    </tr>\n",
       "    <tr>\n",
       "      <th>10</th>\n",
       "      <td>1.0</td>\n",
       "      <td>1500</td>\n",
       "      <td>1200</td>\n",
       "    </tr>\n",
       "  </tbody>\n",
       "</table>\n",
       "</div>"
      ],
      "text/plain": [
       "    const    x1    x2\n",
       "0     1.0  1100  2000\n",
       "1     1.0  1900  1400\n",
       "2     1.0  1300  1200\n",
       "3     1.0  1400   800\n",
       "4     1.0  1100  1000\n",
       "5     1.0  1700   600\n",
       "6     1.0  2300  1600\n",
       "7     1.0  1100  1500\n",
       "8     1.0  1300   800\n",
       "9     1.0  2000  1700\n",
       "10    1.0  1500  1200"
      ]
     },
     "metadata": {},
     "output_type": "display_data"
    },
    {
     "name": "stderr",
     "output_type": "stream",
     "text": [
      "/srv/conda/envs/notebook/lib/python3.6/site-packages/scipy/stats/stats.py:1604: UserWarning: kurtosistest only valid for n>=20 ... continuing anyway, n=11\n",
      "  \"anyway, n=%i\" % int(n))\n"
     ]
    },
    {
     "data": {
      "text/html": [
       "<table class=\"simpletable\">\n",
       "<caption>OLS Regression Results</caption>\n",
       "<tr>\n",
       "  <th>Dep. Variable:</th>            <td>y</td>        <th>  R-squared:         </th> <td>   0.702</td>\n",
       "</tr>\n",
       "<tr>\n",
       "  <th>Model:</th>                   <td>OLS</td>       <th>  Adj. R-squared:    </th> <td>   0.627</td>\n",
       "</tr>\n",
       "<tr>\n",
       "  <th>Method:</th>             <td>Least Squares</td>  <th>  F-statistic:       </th> <td>   9.405</td>\n",
       "</tr>\n",
       "<tr>\n",
       "  <th>Date:</th>             <td>Wed, 11 Nov 2020</td> <th>  Prob (F-statistic):</th>  <td>0.00793</td>\n",
       "</tr>\n",
       "<tr>\n",
       "  <th>Time:</th>                 <td>14:16:13</td>     <th>  Log-Likelihood:    </th> <td> -51.381</td>\n",
       "</tr>\n",
       "<tr>\n",
       "  <th>No. Observations:</th>      <td>    11</td>      <th>  AIC:               </th> <td>   108.8</td>\n",
       "</tr>\n",
       "<tr>\n",
       "  <th>Df Residuals:</th>          <td>     8</td>      <th>  BIC:               </th> <td>   110.0</td>\n",
       "</tr>\n",
       "<tr>\n",
       "  <th>Df Model:</th>              <td>     2</td>      <th>                     </th>     <td> </td>   \n",
       "</tr>\n",
       "<tr>\n",
       "  <th>Covariance Type:</th>      <td>nonrobust</td>    <th>                     </th>     <td> </td>   \n",
       "</tr>\n",
       "</table>\n",
       "<table class=\"simpletable\">\n",
       "<tr>\n",
       "    <td></td>       <th>coef</th>     <th>std err</th>      <th>t</th>      <th>P>|t|</th>  <th>[0.025</th>    <th>0.975]</th>  \n",
       "</tr>\n",
       "<tr>\n",
       "  <th>const</th> <td>   -9.6258</td> <td>   43.180</td> <td>   -0.223</td> <td> 0.829</td> <td> -109.198</td> <td>   89.947</td>\n",
       "</tr>\n",
       "<tr>\n",
       "  <th>x1</th>    <td>    0.0833</td> <td>    0.024</td> <td>    3.494</td> <td> 0.008</td> <td>    0.028</td> <td>    0.138</td>\n",
       "</tr>\n",
       "<tr>\n",
       "  <th>x2</th>    <td>    0.0445</td> <td>    0.022</td> <td>    1.982</td> <td> 0.083</td> <td>   -0.007</td> <td>    0.096</td>\n",
       "</tr>\n",
       "</table>\n",
       "<table class=\"simpletable\">\n",
       "<tr>\n",
       "  <th>Omnibus:</th>       <td> 0.871</td> <th>  Durbin-Watson:     </th> <td>   1.589</td>\n",
       "</tr>\n",
       "<tr>\n",
       "  <th>Prob(Omnibus):</th> <td> 0.647</td> <th>  Jarque-Bera (JB):  </th> <td>   0.650</td>\n",
       "</tr>\n",
       "<tr>\n",
       "  <th>Skew:</th>          <td>-0.193</td> <th>  Prob(JB):          </th> <td>   0.722</td>\n",
       "</tr>\n",
       "<tr>\n",
       "  <th>Kurtosis:</th>      <td> 1.873</td> <th>  Cond. No.          </th> <td>9.52e+03</td>\n",
       "</tr>\n",
       "</table><br/><br/>Notes:<br/>[1] Standard Errors assume that the covariance matrix of the errors is correctly specified.<br/>[2] The condition number is large, 9.52e+03. This might indicate that there are<br/>strong multicollinearity or other numerical problems."
      ],
      "text/plain": [
       "<class 'statsmodels.iolib.summary.Summary'>\n",
       "\"\"\"\n",
       "                            OLS Regression Results                            \n",
       "==============================================================================\n",
       "Dep. Variable:                      y   R-squared:                       0.702\n",
       "Model:                            OLS   Adj. R-squared:                  0.627\n",
       "Method:                 Least Squares   F-statistic:                     9.405\n",
       "Date:                Wed, 11 Nov 2020   Prob (F-statistic):            0.00793\n",
       "Time:                        14:16:13   Log-Likelihood:                -51.381\n",
       "No. Observations:                  11   AIC:                             108.8\n",
       "Df Residuals:                       8   BIC:                             110.0\n",
       "Df Model:                           2                                         \n",
       "Covariance Type:            nonrobust                                         \n",
       "==============================================================================\n",
       "                 coef    std err          t      P>|t|      [0.025      0.975]\n",
       "------------------------------------------------------------------------------\n",
       "const         -9.6258     43.180     -0.223      0.829    -109.198      89.947\n",
       "x1             0.0833      0.024      3.494      0.008       0.028       0.138\n",
       "x2             0.0445      0.022      1.982      0.083      -0.007       0.096\n",
       "==============================================================================\n",
       "Omnibus:                        0.871   Durbin-Watson:                   1.589\n",
       "Prob(Omnibus):                  0.647   Jarque-Bera (JB):                0.650\n",
       "Skew:                          -0.193   Prob(JB):                        0.722\n",
       "Kurtosis:                       1.873   Cond. No.                     9.52e+03\n",
       "==============================================================================\n",
       "\n",
       "Notes:\n",
       "[1] Standard Errors assume that the covariance matrix of the errors is correctly specified.\n",
       "[2] The condition number is large, 9.52e+03. This might indicate that there are\n",
       "strong multicollinearity or other numerical problems.\n",
       "\"\"\""
      ]
     },
     "execution_count": 5,
     "metadata": {},
     "output_type": "execute_result"
    }
   ],
   "source": [
    "y = df['y']\n",
    "X = df.drop(['y', 't'], axis=1)\n",
    "\n",
    "k = 3\n",
    "n = len(df.index)\n",
    "\n",
    "X = sm.add_constant(X)\n",
    "display(X)\n",
    "est = sm.OLS(y, X)\n",
    "est2 = est.fit()\n",
    "est2.summary()"
   ]
  },
  {
   "cell_type": "code",
   "execution_count": 6,
   "metadata": {
    "pycharm": {
     "is_executing": false
    }
   },
   "outputs": [
    {
     "data": {
      "text/markdown": [
       "F test = 9.404622503787724"
      ],
      "text/plain": [
       "<IPython.core.display.Markdown object>"
      ]
     },
     "metadata": {},
     "output_type": "display_data"
    },
    {
     "data": {
      "text/html": [
       "<table style=\"display:inline\" border=\"1\" class=\"dataframe\">\n",
       "  <thead>\n",
       "    <tr style=\"text-align: right;\">\n",
       "      <th></th>\n",
       "      <th>params</th>\n",
       "      <th>t</th>\n",
       "      <th>se</th>\n",
       "    </tr>\n",
       "  </thead>\n",
       "  <tbody>\n",
       "    <tr>\n",
       "      <th>0</th>\n",
       "      <td>const</td>\n",
       "      <td>-0.222925</td>\n",
       "      <td>43.179674</td>\n",
       "    </tr>\n",
       "    <tr>\n",
       "      <th>1</th>\n",
       "      <td>x1</td>\n",
       "      <td>3.494470</td>\n",
       "      <td>0.023848</td>\n",
       "    </tr>\n",
       "    <tr>\n",
       "      <th>2</th>\n",
       "      <td>x2</td>\n",
       "      <td>1.981535</td>\n",
       "      <td>0.022461</td>\n",
       "    </tr>\n",
       "  </tbody>\n",
       "</table style=\"display:inline\"><table style=\"display:inline\" border=\"1\" class=\"dataframe\">\n",
       "  <thead>\n",
       "    <tr style=\"text-align: right;\">\n",
       "      <th></th>\n",
       "      <th>gamma</th>\n",
       "      <th>t</th>\n",
       "      <th>f</th>\n",
       "    </tr>\n",
       "  </thead>\n",
       "  <tbody>\n",
       "    <tr>\n",
       "      <th>0</th>\n",
       "      <td>0.90</td>\n",
       "      <td>1.745884</td>\n",
       "      <td>2.332745</td>\n",
       "    </tr>\n",
       "    <tr>\n",
       "      <th>1</th>\n",
       "      <td>0.95</td>\n",
       "      <td>2.119905</td>\n",
       "      <td>3.006917</td>\n",
       "    </tr>\n",
       "    <tr>\n",
       "      <th>2</th>\n",
       "      <td>0.99</td>\n",
       "      <td>2.920782</td>\n",
       "      <td>4.772578</td>\n",
       "    </tr>\n",
       "  </tbody>\n",
       "</table style=\"display:inline\"><table style=\"display:inline\" border=\"1\" class=\"dataframe\">\n",
       "  <thead>\n",
       "    <tr style=\"text-align: right;\">\n",
       "      <th></th>\n",
       "      <th>gamma</th>\n",
       "      <th>const_left</th>\n",
       "      <th>const_right</th>\n",
       "      <th>x1_left</th>\n",
       "      <th>x1_right</th>\n",
       "      <th>x2_left</th>\n",
       "      <th>x2_right</th>\n",
       "    </tr>\n",
       "  </thead>\n",
       "  <tbody>\n",
       "    <tr>\n",
       "      <th>0</th>\n",
       "      <td>0.90</td>\n",
       "      <td>-135.894020</td>\n",
       "      <td>116.642342</td>\n",
       "      <td>0.013598</td>\n",
       "      <td>0.153072</td>\n",
       "      <td>-0.021174</td>\n",
       "      <td>0.110187</td>\n",
       "    </tr>\n",
       "    <tr>\n",
       "      <th>1</th>\n",
       "      <td>0.95</td>\n",
       "      <td>-172.386019</td>\n",
       "      <td>153.134341</td>\n",
       "      <td>-0.006556</td>\n",
       "      <td>0.173226</td>\n",
       "      <td>-0.040156</td>\n",
       "      <td>0.129169</td>\n",
       "    </tr>\n",
       "    <tr>\n",
       "      <th>2</th>\n",
       "      <td>0.99</td>\n",
       "      <td>-267.958737</td>\n",
       "      <td>248.707059</td>\n",
       "      <td>-0.059340</td>\n",
       "      <td>0.226010</td>\n",
       "      <td>-0.089869</td>\n",
       "      <td>0.178882</td>\n",
       "    </tr>\n",
       "  </tbody>\n",
       "</table style=\"display:inline\">"
      ]
     },
     "metadata": {},
     "output_type": "display_data"
    }
   ],
   "source": [
    "tval = pd.DataFrame({\"params\" : [\"const\", \"x1\", \"x2\"] , \n",
    "        \"t\" : [ i for i in est2.tvalues],\n",
    "        \"se\" : [ i for i in est2.bse] })\n",
    "tned = pd.DataFrame({\"gamma\" : [0.9, 0.95, 0.99]})\\\n",
    "    .assign(t = lambda x: stats.t.ppf(1 - (1 - x.gamma) / 2, 20 - 3 - 1))\\\n",
    "    .assign(f = lambda x: stats.f.ppf(x.gamma, 3 + 1, 20 - 3 - 1))\n",
    "\n",
    "tlvl = pd.DataFrame({\"gamma\" : [0.9, 0.95, 0.99]})\n",
    "\n",
    "for p in ['const', 'x1', 'x2']:\n",
    "    left = []\n",
    "    right = []\n",
    "    for g in 0, 1, 2:\n",
    "        left.append(est2.params[p] - tned.f[g] * est2.bse[p] * math.sqrt(n / (n - k - 1)))\n",
    "        right.append(est2.params[p] + tned.f[g] * est2.bse[p] * math.sqrt(n / (n - k - 1)))\n",
    "    tlvl[p + \"_left\"] = pd.Series(left, index=tlvl.index)\n",
    "    tlvl[p + \"_right\"]= pd.Series(right, index=tlvl.index)\n",
    "\n",
    "display(Markdown(\"F test = {}\".format(est2.fvalue)))\n",
    "display_side_by_side(tval, tned, tlvl)"
   ]
  },
  {
   "cell_type": "markdown",
   "metadata": {},
   "source": [
    "**F тест значительно больше для для всех gamma, следовательно регрессия имеет статистическую значимость.**"
   ]
  },
  {
   "cell_type": "code",
   "execution_count": 7,
   "metadata": {
    "pycharm": {
     "is_executing": false,
     "name": "#%%\n"
    }
   },
   "outputs": [
    {
     "data": {
      "text/markdown": [
       "Для X1 = 1500 и X2 = 1800 y = 195.48830239198656"
      ],
      "text/plain": [
       "<IPython.core.display.Markdown object>"
      ]
     },
     "metadata": {},
     "output_type": "display_data"
    },
    {
     "data": {
      "text/markdown": [
       "При увеличенни х1 на 500 у увеличится на 41.66754611049627"
      ],
      "text/plain": [
       "<IPython.core.display.Markdown object>"
      ]
     },
     "metadata": {},
     "output_type": "display_data"
    },
    {
     "data": {
      "text/markdown": [
       "При увеличенни х1 на 300 и x2 на 500 у увеличится на 47.25372306263547"
      ],
      "text/plain": [
       "<IPython.core.display.Markdown object>"
      ]
     },
     "metadata": {},
     "output_type": "display_data"
    }
   ],
   "source": [
    "display(Markdown(\"Для X1 = 1500 и X2 = 1800 y = {}\".format(est2.predict([1.0, 1500, 1800])[0])))\n",
    "display(Markdown(\"При увеличенни х1 на 500 у увеличится на {}\".format(est2.params.x1 * 500)))\n",
    "display(Markdown(\"При увеличенни х1 на 300 и x2 на 500 у увеличится на {}\".format(est2.params.x2 * 500 + est2.params.x1 * 300)))"
   ]
  },
  {
   "cell_type": "code",
   "execution_count": 8,
   "metadata": {
    "pycharm": {
     "is_executing": false,
     "name": "#%%\n"
    }
   },
   "outputs": [
    {
     "data": {
      "text/markdown": [
       "Если x1 увеличить на 10 %, то y увеличиться на 7.335799755156577 %"
      ],
      "text/plain": [
       "<IPython.core.display.Markdown object>"
      ]
     },
     "metadata": {},
     "output_type": "display_data"
    }
   ],
   "source": [
    "Xnew = df.drop(['y', 't'], axis=1)\n",
    "Xnew.x1 = Xnew.x1 * 1.1\n",
    "Xnew = sm.add_constant(Xnew)\n",
    "y_new = est2.predict(Xnew)\n",
    "y_old = est2.predict(X)\n",
    "display(Markdown(\"Если x1 увеличить на 10 %, то y увеличиться на {} %\".format(np.mean((y_new / y_old) * 100 - 100))))\n"
   ]
  },
  {
   "cell_type": "code",
   "execution_count": 9,
   "metadata": {
    "pycharm": {
     "is_executing": false,
     "name": "#%%\n"
    }
   },
   "outputs": [
    {
     "data": {
      "image/png": "[encoded data removed]",
      "text/plain": [
       "<Figure size 432x288 with 2 Axes>"
      ]
     },
     "metadata": {
      "needs_background": "light"
     },
     "output_type": "display_data"
    }
   ],
   "source": [
    "cols = ['x1', 'x2', 'y']\n",
    "hm = sns.heatmap(df[cols].corr(),\n",
    "                 cbar=True,\n",
    "                 annot=True)"
   ]
  },
  {
   "cell_type": "code",
   "execution_count": null,
   "metadata": {},
   "outputs": [],
   "source": []
  },
  {
   "cell_type": "code",
   "execution_count": null,
   "metadata": {},
   "outputs": [],
   "source": []
  },
  {
   "cell_type": "code",
   "execution_count": null,
   "metadata": {},
   "outputs": [],
   "source": []
  }
 ],
 "metadata": {
  "kernelspec": {
   "display_name": "Python 3",
   "language": "python",
   "name": "python3"
  },
  "language_info": {
   "codemirror_mode": {
    "name": "ipython",
    "version": 3
   },
   "file_extension": ".py",
   "mimetype": "text/x-python",
   "name": "python",
   "nbconvert_exporter": "python",
   "pygments_lexer": "ipython3",
   "version": "3.6.11"
  },
  "pycharm": {
   "stem_cell": {
    "cell_type": "raw",
    "metadata": {
     "collapsed": false
    },
    "source": []
   }
  }
 },
 "nbformat": 4,
 "nbformat_minor": 4
}
